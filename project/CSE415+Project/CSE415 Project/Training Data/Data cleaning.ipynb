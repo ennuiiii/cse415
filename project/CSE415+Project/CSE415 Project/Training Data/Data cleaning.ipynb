{
 "cells": [
  {
   "cell_type": "code",
   "execution_count": null,
   "metadata": {},
   "outputs": [],
   "source": []
  },
  {
   "cell_type": "code",
   "execution_count": 16,
   "metadata": {},
   "outputs": [
    {
     "name": "stdout",
     "output_type": "stream",
     "text": [
      "['mkrglrrillpeerkevqgvvyrgvgedmdcskesfkvdiegdmcrledf \\n', 'mkrslrkmlrpge-kepqdvvyqgveddmdeskdsfkvvfegnahrlqnf \\n', 'iknrrklskyedenlcplhhaaaegqvelmeliingsscevlnimdgygn \\n', 'iknrrklskyddtnasplhhaaaegqvelmktiisgsscavlnvmddygn \\n', 'tplhcaaeknqvesvkfllsqganpnlrnrnmmsplhiavhgmynevikv \\n', 'tplhwateknqvesvkfllsqganpnlrngnmmaplhiaaqgmyneiikv \\n', 'ltehkatninlegengntalmstcakdnsealqillekgaklcksnkwgd \\n', 'ltehrstninlegengntallttcakdnsealqillnkgaklcksnkwgd \\n', 'ypvhqaafsgakkcmelilaygekngysrethinfvnhkkasplhlavqs \\n', 'fpvhqaafsgakkcmeiilkhgeehgysrqshinfvnnkkvsplhlavqs \\n', 'gdldmikmcldngahidmmenakcmalhfaatqgatdivklmissytgss \\n', 'gdlemikmcldngahielvengkcmalhfaatqgateivklmissysgds \\n', 'divnavdgnqetllhraslfdhhdlaeylisvgadinstdsegrsplila \\n', 'nivnaldgncetllhraslfdhhelaeylisagadinstdsegrsplila \\n', 'tasaswnivnlllckgakvdikdhlgrnflhltvqqpyglrnlrpefmqm \\n', 'tasaswnivnlllskgarvdikdhlgrnflhltvqqpyglknlqpefmqm \\n', 'qhikelvmdedndgctplhyacrqgvpvsvnnllgfnvsihskskdkksp \\n', 'qhikelvmdedndgctplhyacrqgvpvsvnnllgfnvsihskskdkksp \\n', 'lhfaasygrintcqrllqdisdtrllnegdlhgmtplhlaaknghdkvvq \\n', 'lhfaasygrintcqrllqdisdtrllnegdlhgmtplhlaaknghdkvvq \\n', 'lllkkgalflsdhngwtalhhasmggytqtmkvildtnlkctdrldeegn \\n', 'lllkkgalflsdhngwtalhhasmggytqtmkvildtnlkctdrldeegn \\n', 'talhfaareghakavamllsynadillnkkqasflhialhnkrkevvltt \\n', 'talhfaareghakavalllshdaeiilnkqqasflhialhnkrkevvltt \\n', 'irnkrwdeclqvfthnspsnrcpimemveylpecmkvlldfcmipstedk \\n', 'irskrwdeclqvfthhspsnrcptmemveylpecmkvlldfcmipstedk \\n', 'scqdyhieynfkylqcplsmtkkvaptqdvvyepltilnvmvqhnriell \\n', 'scrdyhieynfrylqcpleltkhttpiqgviyeplsvlnvmvqhnriell \\n', 'nhpvcreyllmkwcaygfrahmmnlgsyclglipmtllvvkiqpgmafns \\n', 'nhpvckeyllmkwcaygfrahmmnlgsyclglipmtllvvnvkpgmafns \\n', 'tgiingtsstheeridtl------------------------------kr \\n', 'tgiinetsd-hleildstnsyaiqvcmilvflssifgyckevvqifqqkr \\n', 'nyfldynnalewviyttsiifvlplflnipaymqwqcgaiaiffywmnfl \\n', 'nyfldynnalewliyttsiifvlplfvnvpanvqwqcgaiaiyfywmnfl \\n', 'lylqrfencgifivmlevifktllrstgvfiflllafglsfyvllnfqda \\n', 'lylqrfencgifivmlevilktllrstvvfvflllafglsfyvllniqda \\n', 'fstpllsliqtfsmmlgdinyrdafleplfrnelaypvltfgqliaftmf \\n', 'fsspllsiiqtfsmmlgdinyrdaflepflrnelaypflsfaqlivftmf \\n', 'vpivlmnlliglavgdiaevqkhaslkriamqvelhtnlekklplwylrk \\n', 'vpivlmnlliglavgdiaevqkhaslkriamqvelhtslekklplwflrk \\n', 'vdqrstivypnrprhgrmlrffhyflnmqetrqevpnidtclemeilkqk \\n', 'vdqkstivypnrprggkilrlfhylfgsheirqeisntdtcleiemlkqk \\n', 'yrlkdltsllekqhelikliiqkmeiisetedednhcsfqdrfkkerleq \\n', 'yrlkdltsllekqhelikliiqkmeiisetedednhcsfqdkfkkerlel \\n', 'mhskwnfvlnavktkthcsishpdf \\n', 'mssrwnsvlravktktqcleprp--\\n']\n"
     ]
    }
   ],
   "source": [
    "tfile = open('Mouse vs. Squirrel.txt', 'r')\n",
    "allLines = tfile.readlines()\n",
    "new_allLines = []\n",
    "tfile.close()\n",
    "\n",
    "for line in allLines:\n",
    "    new_line = line[:-7]\n",
    "    new_line += '\\n'\n",
    "    new_allLines.append(new_line)\n",
    "\n",
    "print(new_allLines)\n",
    "\n",
    "\n",
    "tfile2 = open('Mouse vs. Squirrel.txt', 'w')\n",
    "tfile2.writelines(new_allLines)\n",
    "tfile2.close()\n"
   ]
  },
  {
   "cell_type": "code",
   "execution_count": null,
   "metadata": {},
   "outputs": [],
   "source": []
  }
 ],
 "metadata": {
  "kernelspec": {
   "display_name": "Python 3",
   "language": "python",
   "name": "python3"
  },
  "language_info": {
   "codemirror_mode": {
    "name": "ipython",
    "version": 3
   },
   "file_extension": ".py",
   "mimetype": "text/x-python",
   "name": "python",
   "nbconvert_exporter": "python",
   "pygments_lexer": "ipython3",
   "version": "3.7.3"
  }
 },
 "nbformat": 4,
 "nbformat_minor": 2
}
